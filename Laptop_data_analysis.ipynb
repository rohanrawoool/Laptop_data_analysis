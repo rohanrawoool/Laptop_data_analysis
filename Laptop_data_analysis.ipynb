{
 "cells": [
  {
   "cell_type": "markdown",
   "id": "a278dc16",
   "metadata": {},
   "source": [
    "# Importing Liabraries"
   ]
  },
  {
   "cell_type": "code",
   "execution_count": 1,
   "id": "e787a624",
   "metadata": {},
   "outputs": [],
   "source": [
    "import pandas as pd\n",
    "import numpy as np\n",
    "import seaborn as sns\n",
    "import matplotlib.pyplot as  plt"
   ]
  },
  {
   "cell_type": "markdown",
   "id": "60cf845f",
   "metadata": {},
   "source": [
    "# Loading csv file"
   ]
  },
  {
   "cell_type": "code",
   "execution_count": 2,
   "id": "9468223f",
   "metadata": {},
   "outputs": [],
   "source": [
    "df = pd.read_csv(\"Cleaned_Laptop_data.csv\")"
   ]
  },
  {
   "cell_type": "code",
   "execution_count": 3,
   "id": "58a2a23d",
   "metadata": {},
   "outputs": [
    {
     "data": {
      "text/html": [
       "<div>\n",
       "<style scoped>\n",
       "    .dataframe tbody tr th:only-of-type {\n",
       "        vertical-align: middle;\n",
       "    }\n",
       "\n",
       "    .dataframe tbody tr th {\n",
       "        vertical-align: top;\n",
       "    }\n",
       "\n",
       "    .dataframe thead th {\n",
       "        text-align: right;\n",
       "    }\n",
       "</style>\n",
       "<table border=\"1\" class=\"dataframe\">\n",
       "  <thead>\n",
       "    <tr style=\"text-align: right;\">\n",
       "      <th></th>\n",
       "      <th>brand</th>\n",
       "      <th>model</th>\n",
       "      <th>processor_brand</th>\n",
       "      <th>processor_name</th>\n",
       "      <th>processor_gnrtn</th>\n",
       "      <th>ram_gb</th>\n",
       "      <th>ram_type</th>\n",
       "      <th>ssd</th>\n",
       "      <th>hdd</th>\n",
       "      <th>os</th>\n",
       "      <th>...</th>\n",
       "      <th>display_size</th>\n",
       "      <th>warranty</th>\n",
       "      <th>Touchscreen</th>\n",
       "      <th>msoffice</th>\n",
       "      <th>latest_price</th>\n",
       "      <th>old_price</th>\n",
       "      <th>discount</th>\n",
       "      <th>star_rating</th>\n",
       "      <th>ratings</th>\n",
       "      <th>reviews</th>\n",
       "    </tr>\n",
       "  </thead>\n",
       "  <tbody>\n",
       "    <tr>\n",
       "      <th>0</th>\n",
       "      <td>ASUS</td>\n",
       "      <td>Celeron</td>\n",
       "      <td>Intel</td>\n",
       "      <td>Celeron Dual</td>\n",
       "      <td>Missing</td>\n",
       "      <td>4</td>\n",
       "      <td>DDR4</td>\n",
       "      <td>0</td>\n",
       "      <td>1024</td>\n",
       "      <td>Windows</td>\n",
       "      <td>...</td>\n",
       "      <td>15.6</td>\n",
       "      <td>1</td>\n",
       "      <td>No</td>\n",
       "      <td>No</td>\n",
       "      <td>23990</td>\n",
       "      <td>26990</td>\n",
       "      <td>11</td>\n",
       "      <td>3.8</td>\n",
       "      <td>15279</td>\n",
       "      <td>1947</td>\n",
       "    </tr>\n",
       "    <tr>\n",
       "      <th>1</th>\n",
       "      <td>ASUS</td>\n",
       "      <td>VivoBook</td>\n",
       "      <td>Intel</td>\n",
       "      <td>Core i3</td>\n",
       "      <td>10th</td>\n",
       "      <td>8</td>\n",
       "      <td>DDR4</td>\n",
       "      <td>512</td>\n",
       "      <td>0</td>\n",
       "      <td>Windows</td>\n",
       "      <td>...</td>\n",
       "      <td>15.6</td>\n",
       "      <td>1</td>\n",
       "      <td>No</td>\n",
       "      <td>No</td>\n",
       "      <td>37990</td>\n",
       "      <td>50990</td>\n",
       "      <td>25</td>\n",
       "      <td>4.3</td>\n",
       "      <td>990</td>\n",
       "      <td>108</td>\n",
       "    </tr>\n",
       "    <tr>\n",
       "      <th>2</th>\n",
       "      <td>ASUS</td>\n",
       "      <td>Vivobook</td>\n",
       "      <td>Intel</td>\n",
       "      <td>Core i3</td>\n",
       "      <td>10th</td>\n",
       "      <td>8</td>\n",
       "      <td>DDR4</td>\n",
       "      <td>0</td>\n",
       "      <td>1024</td>\n",
       "      <td>Windows</td>\n",
       "      <td>...</td>\n",
       "      <td>14.1</td>\n",
       "      <td>1</td>\n",
       "      <td>No</td>\n",
       "      <td>No</td>\n",
       "      <td>32890</td>\n",
       "      <td>46990</td>\n",
       "      <td>30</td>\n",
       "      <td>3.9</td>\n",
       "      <td>28</td>\n",
       "      <td>4</td>\n",
       "    </tr>\n",
       "    <tr>\n",
       "      <th>3</th>\n",
       "      <td>HP</td>\n",
       "      <td>Core</td>\n",
       "      <td>Intel</td>\n",
       "      <td>Core i3</td>\n",
       "      <td>11th</td>\n",
       "      <td>8</td>\n",
       "      <td>DDR4</td>\n",
       "      <td>512</td>\n",
       "      <td>0</td>\n",
       "      <td>Windows</td>\n",
       "      <td>...</td>\n",
       "      <td>15.6</td>\n",
       "      <td>1</td>\n",
       "      <td>No</td>\n",
       "      <td>Yes</td>\n",
       "      <td>42990</td>\n",
       "      <td>57330</td>\n",
       "      <td>25</td>\n",
       "      <td>4.4</td>\n",
       "      <td>158</td>\n",
       "      <td>18</td>\n",
       "    </tr>\n",
       "    <tr>\n",
       "      <th>4</th>\n",
       "      <td>HP</td>\n",
       "      <td>Core</td>\n",
       "      <td>Intel</td>\n",
       "      <td>Core i5</td>\n",
       "      <td>11th</td>\n",
       "      <td>8</td>\n",
       "      <td>DDR4</td>\n",
       "      <td>512</td>\n",
       "      <td>0</td>\n",
       "      <td>Windows</td>\n",
       "      <td>...</td>\n",
       "      <td>15.6</td>\n",
       "      <td>0</td>\n",
       "      <td>No</td>\n",
       "      <td>No</td>\n",
       "      <td>54990</td>\n",
       "      <td>70171</td>\n",
       "      <td>21</td>\n",
       "      <td>4.2</td>\n",
       "      <td>116</td>\n",
       "      <td>15</td>\n",
       "    </tr>\n",
       "  </tbody>\n",
       "</table>\n",
       "<p>5 rows × 23 columns</p>\n",
       "</div>"
      ],
      "text/plain": [
       "  brand     model processor_brand processor_name processor_gnrtn ram_gb  \\\n",
       "0  ASUS   Celeron           Intel   Celeron Dual         Missing      4   \n",
       "1  ASUS  VivoBook           Intel        Core i3            10th      8   \n",
       "2  ASUS  Vivobook           Intel        Core i3            10th      8   \n",
       "3    HP      Core           Intel        Core i3            11th      8   \n",
       "4    HP      Core           Intel        Core i5            11th      8   \n",
       "\n",
       "  ram_type  ssd   hdd       os  ...  display_size  warranty Touchscreen  \\\n",
       "0     DDR4    0  1024  Windows  ...          15.6         1          No   \n",
       "1     DDR4  512     0  Windows  ...          15.6         1          No   \n",
       "2     DDR4    0  1024  Windows  ...          14.1         1          No   \n",
       "3     DDR4  512     0  Windows  ...          15.6         1          No   \n",
       "4     DDR4  512     0  Windows  ...          15.6         0          No   \n",
       "\n",
       "  msoffice  latest_price old_price discount  star_rating  ratings  reviews  \n",
       "0       No         23990     26990       11          3.8    15279     1947  \n",
       "1       No         37990     50990       25          4.3      990      108  \n",
       "2       No         32890     46990       30          3.9       28        4  \n",
       "3      Yes         42990     57330       25          4.4      158       18  \n",
       "4       No         54990     70171       21          4.2      116       15  \n",
       "\n",
       "[5 rows x 23 columns]"
      ]
     },
     "execution_count": 3,
     "metadata": {},
     "output_type": "execute_result"
    }
   ],
   "source": [
    "# Checking top 5 records of dataset\n",
    "df.head()"
   ]
  },
  {
   "cell_type": "code",
   "execution_count": 4,
   "id": "f681d782",
   "metadata": {},
   "outputs": [
    {
     "data": {
      "text/html": [
       "<div>\n",
       "<style scoped>\n",
       "    .dataframe tbody tr th:only-of-type {\n",
       "        vertical-align: middle;\n",
       "    }\n",
       "\n",
       "    .dataframe tbody tr th {\n",
       "        vertical-align: top;\n",
       "    }\n",
       "\n",
       "    .dataframe thead th {\n",
       "        text-align: right;\n",
       "    }\n",
       "</style>\n",
       "<table border=\"1\" class=\"dataframe\">\n",
       "  <thead>\n",
       "    <tr style=\"text-align: right;\">\n",
       "      <th></th>\n",
       "      <th>ssd</th>\n",
       "      <th>hdd</th>\n",
       "      <th>os_bit</th>\n",
       "      <th>graphic_card_gb</th>\n",
       "      <th>warranty</th>\n",
       "      <th>latest_price</th>\n",
       "      <th>old_price</th>\n",
       "      <th>discount</th>\n",
       "      <th>star_rating</th>\n",
       "      <th>ratings</th>\n",
       "      <th>reviews</th>\n",
       "    </tr>\n",
       "  </thead>\n",
       "  <tbody>\n",
       "    <tr>\n",
       "      <th>count</th>\n",
       "      <td>896.000000</td>\n",
       "      <td>896.000000</td>\n",
       "      <td>896.000000</td>\n",
       "      <td>896.000000</td>\n",
       "      <td>896.000000</td>\n",
       "      <td>896.000000</td>\n",
       "      <td>896.000000</td>\n",
       "      <td>896.000000</td>\n",
       "      <td>896.000000</td>\n",
       "      <td>896.000000</td>\n",
       "      <td>896.000000</td>\n",
       "    </tr>\n",
       "    <tr>\n",
       "      <th>mean</th>\n",
       "      <td>431.750000</td>\n",
       "      <td>190.857143</td>\n",
       "      <td>59.178571</td>\n",
       "      <td>1.198661</td>\n",
       "      <td>0.691964</td>\n",
       "      <td>76309.860491</td>\n",
       "      <td>88134.154018</td>\n",
       "      <td>18.527902</td>\n",
       "      <td>2.980469</td>\n",
       "      <td>367.391741</td>\n",
       "      <td>46.152902</td>\n",
       "    </tr>\n",
       "    <tr>\n",
       "      <th>std</th>\n",
       "      <td>316.436824</td>\n",
       "      <td>401.181158</td>\n",
       "      <td>11.453644</td>\n",
       "      <td>2.057454</td>\n",
       "      <td>0.606282</td>\n",
       "      <td>46613.354368</td>\n",
       "      <td>55719.645554</td>\n",
       "      <td>10.508486</td>\n",
       "      <td>1.965254</td>\n",
       "      <td>1106.309355</td>\n",
       "      <td>136.079586</td>\n",
       "    </tr>\n",
       "    <tr>\n",
       "      <th>min</th>\n",
       "      <td>0.000000</td>\n",
       "      <td>0.000000</td>\n",
       "      <td>32.000000</td>\n",
       "      <td>0.000000</td>\n",
       "      <td>0.000000</td>\n",
       "      <td>13990.000000</td>\n",
       "      <td>0.000000</td>\n",
       "      <td>0.000000</td>\n",
       "      <td>0.000000</td>\n",
       "      <td>0.000000</td>\n",
       "      <td>0.000000</td>\n",
       "    </tr>\n",
       "    <tr>\n",
       "      <th>25%</th>\n",
       "      <td>256.000000</td>\n",
       "      <td>0.000000</td>\n",
       "      <td>64.000000</td>\n",
       "      <td>0.000000</td>\n",
       "      <td>0.000000</td>\n",
       "      <td>45490.000000</td>\n",
       "      <td>54940.500000</td>\n",
       "      <td>11.000000</td>\n",
       "      <td>0.000000</td>\n",
       "      <td>0.000000</td>\n",
       "      <td>0.000000</td>\n",
       "    </tr>\n",
       "    <tr>\n",
       "      <th>50%</th>\n",
       "      <td>512.000000</td>\n",
       "      <td>0.000000</td>\n",
       "      <td>64.000000</td>\n",
       "      <td>0.000000</td>\n",
       "      <td>1.000000</td>\n",
       "      <td>63494.000000</td>\n",
       "      <td>78052.500000</td>\n",
       "      <td>19.000000</td>\n",
       "      <td>4.100000</td>\n",
       "      <td>19.000000</td>\n",
       "      <td>3.000000</td>\n",
       "    </tr>\n",
       "    <tr>\n",
       "      <th>75%</th>\n",
       "      <td>512.000000</td>\n",
       "      <td>0.000000</td>\n",
       "      <td>64.000000</td>\n",
       "      <td>2.000000</td>\n",
       "      <td>1.000000</td>\n",
       "      <td>89090.000000</td>\n",
       "      <td>111019.500000</td>\n",
       "      <td>26.000000</td>\n",
       "      <td>4.400000</td>\n",
       "      <td>179.500000</td>\n",
       "      <td>23.250000</td>\n",
       "    </tr>\n",
       "    <tr>\n",
       "      <th>max</th>\n",
       "      <td>3072.000000</td>\n",
       "      <td>2048.000000</td>\n",
       "      <td>64.000000</td>\n",
       "      <td>8.000000</td>\n",
       "      <td>3.000000</td>\n",
       "      <td>441990.000000</td>\n",
       "      <td>377798.000000</td>\n",
       "      <td>57.000000</td>\n",
       "      <td>5.000000</td>\n",
       "      <td>15279.000000</td>\n",
       "      <td>1947.000000</td>\n",
       "    </tr>\n",
       "  </tbody>\n",
       "</table>\n",
       "</div>"
      ],
      "text/plain": [
       "               ssd          hdd      os_bit  graphic_card_gb    warranty  \\\n",
       "count   896.000000   896.000000  896.000000       896.000000  896.000000   \n",
       "mean    431.750000   190.857143   59.178571         1.198661    0.691964   \n",
       "std     316.436824   401.181158   11.453644         2.057454    0.606282   \n",
       "min       0.000000     0.000000   32.000000         0.000000    0.000000   \n",
       "25%     256.000000     0.000000   64.000000         0.000000    0.000000   \n",
       "50%     512.000000     0.000000   64.000000         0.000000    1.000000   \n",
       "75%     512.000000     0.000000   64.000000         2.000000    1.000000   \n",
       "max    3072.000000  2048.000000   64.000000         8.000000    3.000000   \n",
       "\n",
       "        latest_price      old_price    discount  star_rating       ratings  \\\n",
       "count     896.000000     896.000000  896.000000   896.000000    896.000000   \n",
       "mean    76309.860491   88134.154018   18.527902     2.980469    367.391741   \n",
       "std     46613.354368   55719.645554   10.508486     1.965254   1106.309355   \n",
       "min     13990.000000       0.000000    0.000000     0.000000      0.000000   \n",
       "25%     45490.000000   54940.500000   11.000000     0.000000      0.000000   \n",
       "50%     63494.000000   78052.500000   19.000000     4.100000     19.000000   \n",
       "75%     89090.000000  111019.500000   26.000000     4.400000    179.500000   \n",
       "max    441990.000000  377798.000000   57.000000     5.000000  15279.000000   \n",
       "\n",
       "           reviews  \n",
       "count   896.000000  \n",
       "mean     46.152902  \n",
       "std     136.079586  \n",
       "min       0.000000  \n",
       "25%       0.000000  \n",
       "50%       3.000000  \n",
       "75%      23.250000  \n",
       "max    1947.000000  "
      ]
     },
     "execution_count": 4,
     "metadata": {},
     "output_type": "execute_result"
    }
   ],
   "source": [
    "# Statistical information about data\n",
    "df.describe()"
   ]
  },
  {
   "cell_type": "code",
   "execution_count": 5,
   "id": "cf80c40a",
   "metadata": {},
   "outputs": [
    {
     "name": "stdout",
     "output_type": "stream",
     "text": [
      "<class 'pandas.core.frame.DataFrame'>\n",
      "RangeIndex: 896 entries, 0 to 895\n",
      "Data columns (total 23 columns):\n",
      " #   Column           Non-Null Count  Dtype  \n",
      "---  ------           --------------  -----  \n",
      " 0   brand            896 non-null    object \n",
      " 1   model            896 non-null    object \n",
      " 2   processor_brand  896 non-null    object \n",
      " 3   processor_name   895 non-null    object \n",
      " 4   processor_gnrtn  896 non-null    object \n",
      " 5   ram_gb           871 non-null    object \n",
      " 6   ram_type         871 non-null    object \n",
      " 7   ssd              896 non-null    int64  \n",
      " 8   hdd              896 non-null    int64  \n",
      " 9   os               896 non-null    object \n",
      " 10  os_bit           896 non-null    int64  \n",
      " 11  graphic_card_gb  896 non-null    int64  \n",
      " 12  weight           896 non-null    object \n",
      " 13  display_size     896 non-null    object \n",
      " 14  warranty         896 non-null    int64  \n",
      " 15  Touchscreen      896 non-null    object \n",
      " 16  msoffice         896 non-null    object \n",
      " 17  latest_price     896 non-null    int64  \n",
      " 18  old_price        896 non-null    int64  \n",
      " 19  discount         896 non-null    int64  \n",
      " 20  star_rating      896 non-null    float64\n",
      " 21  ratings          896 non-null    int64  \n",
      " 22  reviews          896 non-null    int64  \n",
      "dtypes: float64(1), int64(10), object(12)\n",
      "memory usage: 161.1+ KB\n"
     ]
    }
   ],
   "source": [
    "#Structural information about data\n",
    "df.info()"
   ]
  },
  {
   "cell_type": "markdown",
   "id": "d0eb8d3c",
   "metadata": {},
   "source": [
    "# Checking for nan/ missing values"
   ]
  },
  {
   "cell_type": "code",
   "execution_count": 6,
   "id": "cbdc682a",
   "metadata": {},
   "outputs": [
    {
     "data": {
      "text/plain": [
       "brand               0\n",
       "model               0\n",
       "processor_brand     0\n",
       "processor_name      1\n",
       "processor_gnrtn     0\n",
       "ram_gb             25\n",
       "ram_type           25\n",
       "ssd                 0\n",
       "hdd                 0\n",
       "os                  0\n",
       "os_bit              0\n",
       "graphic_card_gb     0\n",
       "weight              0\n",
       "display_size        0\n",
       "warranty            0\n",
       "Touchscreen         0\n",
       "msoffice            0\n",
       "latest_price        0\n",
       "old_price           0\n",
       "discount            0\n",
       "star_rating         0\n",
       "ratings             0\n",
       "reviews             0\n",
       "dtype: int64"
      ]
     },
     "execution_count": 6,
     "metadata": {},
     "output_type": "execute_result"
    }
   ],
   "source": [
    "df.isnull().sum()"
   ]
  },
  {
   "cell_type": "markdown",
   "id": "22f9c75c",
   "metadata": {},
   "source": [
    "# Filling Null Values"
   ]
  },
  {
   "cell_type": "code",
   "execution_count": 7,
   "id": "35b79280",
   "metadata": {},
   "outputs": [],
   "source": [
    "df.fillna({\"processor_name\":\"Intel\",\"ram_gb\":8,\"ram_type\":\"DDR4\"},inplace=True)"
   ]
  },
  {
   "cell_type": "code",
   "execution_count": 8,
   "id": "fe8b8a9a",
   "metadata": {},
   "outputs": [
    {
     "data": {
      "text/plain": [
       "brand              0\n",
       "model              0\n",
       "processor_brand    0\n",
       "processor_name     0\n",
       "processor_gnrtn    0\n",
       "ram_gb             0\n",
       "ram_type           0\n",
       "ssd                0\n",
       "hdd                0\n",
       "os                 0\n",
       "os_bit             0\n",
       "graphic_card_gb    0\n",
       "weight             0\n",
       "display_size       0\n",
       "warranty           0\n",
       "Touchscreen        0\n",
       "msoffice           0\n",
       "latest_price       0\n",
       "old_price          0\n",
       "discount           0\n",
       "star_rating        0\n",
       "ratings            0\n",
       "reviews            0\n",
       "dtype: int64"
      ]
     },
     "execution_count": 8,
     "metadata": {},
     "output_type": "execute_result"
    }
   ],
   "source": [
    "df.isnull().sum()"
   ]
  },
  {
   "cell_type": "code",
   "execution_count": 9,
   "id": "4c6f506b",
   "metadata": {},
   "outputs": [
    {
     "data": {
      "text/plain": [
       "array(['ASUS', 'HP', 'Lenovo', 'DELL', 'APPLE', 'acer', 'MSI', 'realme',\n",
       "       'RedmiBook', 'Nokia', 'lenovo', 'Infinix', 'Mi', 'ALIENWARE',\n",
       "       'SAMSUNG', 'MICROSOFT', 'LG', 'Vaio', 'Smartron', 'Avita', 'iball'],\n",
       "      dtype=object)"
      ]
     },
     "execution_count": 9,
     "metadata": {},
     "output_type": "execute_result"
    }
   ],
   "source": [
    "# Laptop Brand Names in dataset\n",
    "df[\"brand\"].unique()"
   ]
  },
  {
   "cell_type": "markdown",
   "id": "beea37af",
   "metadata": {},
   "source": [
    "# Top 5 Sold laptop brands"
   ]
  },
  {
   "cell_type": "code",
   "execution_count": 10,
   "id": "2c471496",
   "metadata": {},
   "outputs": [
    {
     "data": {
      "text/plain": [
       "<matplotlib.legend.Legend at 0x23ea7a55a30>"
      ]
     },
     "execution_count": 10,
     "metadata": {},
     "output_type": "execute_result"
    },
    {
     "data": {
      "image/png": "[encoded data removed]",
      "text/plain": [
       "<Figure size 432x288 with 1 Axes>"
      ]
     },
     "metadata": {
      "needs_background": "light"
     },
     "output_type": "display_data"
    }
   ],
   "source": [
    "df[\"brand\"].value_counts().head().plot(kind=\"bar\")\n",
    "plt.xlabel(\"Laptop Brand Name\")\n",
    "plt.ylabel(\"Value Counts\")\n",
    "plt.title(\"Top 5 Laptop Brands\")\n",
    "plt.grid()\n",
    "plt.legend()"
   ]
  },
  {
   "cell_type": "markdown",
   "id": "338c67ae",
   "metadata": {},
   "source": [
    "# Top 5 Most used processor in laptop"
   ]
  },
  {
   "cell_type": "code",
   "execution_count": 11,
   "id": "07b973ba",
   "metadata": {},
   "outputs": [
    {
     "data": {
      "text/plain": [
       "Core i5    292\n",
       "Core i3    170\n",
       "Core i7    111\n",
       "Ryzen 5     82\n",
       "Ryzen 7     58\n",
       "Name: processor_name, dtype: int64"
      ]
     },
     "execution_count": 11,
     "metadata": {},
     "output_type": "execute_result"
    }
   ],
   "source": [
    "df[\"processor_name\"].value_counts().head()"
   ]
  },
  {
   "cell_type": "markdown",
   "id": "3e565a96",
   "metadata": {},
   "source": [
    "# Types of generation used in laptop mostly"
   ]
  },
  {
   "cell_type": "code",
   "execution_count": 12,
   "id": "965ec97f",
   "metadata": {},
   "outputs": [
    {
     "data": {
      "text/plain": [
       "<matplotlib.legend.Legend at 0x23ea7ac7070>"
      ]
     },
     "execution_count": 12,
     "metadata": {},
     "output_type": "execute_result"
    },
    {
     "data": {
      "image/png": "[encoded data removed]",
      "text/plain": [
       "<Figure size 432x288 with 1 Axes>"
      ]
     },
     "metadata": {
      "needs_background": "light"
     },
     "output_type": "display_data"
    }
   ],
   "source": [
    "df[df[\"processor_gnrtn\"]!=\"Missing\"][\"processor_gnrtn\"].value_counts().plot(kind=\"bar\")\n",
    "plt.xlabel(\"Generation Name\")\n",
    "plt.ylabel(\"Value Counts \")\n",
    "plt.title(\"Processor use graph\")\n",
    "plt.grid()\n",
    "plt.legend()"
   ]
  },
  {
   "cell_type": "markdown",
   "id": "6167979e",
   "metadata": {},
   "source": [
    "# Which Brand have most rating/reviews"
   ]
  },
  {
   "cell_type": "code",
   "execution_count": 13,
   "id": "9717495d",
   "metadata": {},
   "outputs": [
    {
     "data": {
      "text/plain": [
       "<AxesSubplot:ylabel='brand'>"
      ]
     },
     "execution_count": 13,
     "metadata": {},
     "output_type": "execute_result"
    },
    {
     "data": {
      "image/png": "[encoded data removed]",
      "text/plain": [
       "<Figure size 432x288 with 1 Axes>"
      ]
     },
     "metadata": {},
     "output_type": "display_data"
    }
   ],
   "source": [
    "df[df[\"star_rating\"]==4.4][\"brand\"].value_counts().head().plot(kind=\"pie\",autopct=\"%.2f%%\",shadow=True,explode=(0.2,0.2,0.2,0.2,0.2))"
   ]
  },
  {
   "cell_type": "markdown",
   "id": "7cc15124",
   "metadata": {},
   "source": [
    "# Types of operating system most used in laptops"
   ]
  },
  {
   "cell_type": "code",
   "execution_count": 14,
   "id": "41fc8ff2",
   "metadata": {},
   "outputs": [
    {
     "data": {
      "text/plain": [
       "<matplotlib.legend.Legend at 0x23ea7bbffa0>"
      ]
     },
     "execution_count": 14,
     "metadata": {},
     "output_type": "execute_result"
    },
    {
     "data": {
      "image/png": "[encoded data removed]",
      "text/plain": [
       "<Figure size 432x288 with 1 Axes>"
      ]
     },
     "metadata": {
      "needs_background": "light"
     },
     "output_type": "display_data"
    }
   ],
   "source": [
    "df[\"os\"].value_counts().plot(kind=\"bar\")\n",
    "plt.title(\"Operating System Distribution Chart\")\n",
    "plt.xlabel(\"Operating system name\")\n",
    "plt.ylabel(\"Value counts of laptop\")\n",
    "plt.grid()\n",
    "plt.legend()\n"
   ]
  },
  {
   "cell_type": "markdown",
   "id": "4530f352",
   "metadata": {},
   "source": [
    "# How many laptop come with touch screen"
   ]
  },
  {
   "cell_type": "code",
   "execution_count": 15,
   "id": "b819012d",
   "metadata": {},
   "outputs": [
    {
     "data": {
      "text/plain": [
       "<AxesSubplot:ylabel='Touchscreen'>"
      ]
     },
     "execution_count": 15,
     "metadata": {},
     "output_type": "execute_result"
    },
    {
     "data": {
      "image/png": "[encoded data removed]",
      "text/plain": [
       "<Figure size 432x288 with 1 Axes>"
      ]
     },
     "metadata": {},
     "output_type": "display_data"
    }
   ],
   "source": [
    "df[\"Touchscreen\"].value_counts().plot(kind=\"pie\",autopct=\"%.2f%%\",shadow=True,explode=(0.0,0.2))"
   ]
  },
  {
   "cell_type": "code",
   "execution_count": 16,
   "id": "eff55fa6",
   "metadata": {},
   "outputs": [
    {
     "data": {
      "text/html": [
       "<div>\n",
       "<style scoped>\n",
       "    .dataframe tbody tr th:only-of-type {\n",
       "        vertical-align: middle;\n",
       "    }\n",
       "\n",
       "    .dataframe tbody tr th {\n",
       "        vertical-align: top;\n",
       "    }\n",
       "\n",
       "    .dataframe thead th {\n",
       "        text-align: right;\n",
       "    }\n",
       "</style>\n",
       "<table border=\"1\" class=\"dataframe\">\n",
       "  <thead>\n",
       "    <tr style=\"text-align: right;\">\n",
       "      <th></th>\n",
       "      <th>brand</th>\n",
       "      <th>model</th>\n",
       "      <th>processor_brand</th>\n",
       "      <th>processor_name</th>\n",
       "      <th>processor_gnrtn</th>\n",
       "      <th>ram_gb</th>\n",
       "      <th>ram_type</th>\n",
       "      <th>ssd</th>\n",
       "      <th>hdd</th>\n",
       "      <th>os</th>\n",
       "      <th>...</th>\n",
       "      <th>display_size</th>\n",
       "      <th>warranty</th>\n",
       "      <th>Touchscreen</th>\n",
       "      <th>msoffice</th>\n",
       "      <th>latest_price</th>\n",
       "      <th>old_price</th>\n",
       "      <th>discount</th>\n",
       "      <th>star_rating</th>\n",
       "      <th>ratings</th>\n",
       "      <th>reviews</th>\n",
       "    </tr>\n",
       "  </thead>\n",
       "  <tbody>\n",
       "    <tr>\n",
       "      <th>0</th>\n",
       "      <td>ASUS</td>\n",
       "      <td>Celeron</td>\n",
       "      <td>Intel</td>\n",
       "      <td>Celeron Dual</td>\n",
       "      <td>Missing</td>\n",
       "      <td>4</td>\n",
       "      <td>DDR4</td>\n",
       "      <td>0</td>\n",
       "      <td>1024</td>\n",
       "      <td>Windows</td>\n",
       "      <td>...</td>\n",
       "      <td>15.6</td>\n",
       "      <td>1</td>\n",
       "      <td>No</td>\n",
       "      <td>No</td>\n",
       "      <td>23990</td>\n",
       "      <td>26990</td>\n",
       "      <td>11</td>\n",
       "      <td>3.8</td>\n",
       "      <td>15279</td>\n",
       "      <td>1947</td>\n",
       "    </tr>\n",
       "    <tr>\n",
       "      <th>1</th>\n",
       "      <td>ASUS</td>\n",
       "      <td>VivoBook</td>\n",
       "      <td>Intel</td>\n",
       "      <td>Core i3</td>\n",
       "      <td>10th</td>\n",
       "      <td>8</td>\n",
       "      <td>DDR4</td>\n",
       "      <td>512</td>\n",
       "      <td>0</td>\n",
       "      <td>Windows</td>\n",
       "      <td>...</td>\n",
       "      <td>15.6</td>\n",
       "      <td>1</td>\n",
       "      <td>No</td>\n",
       "      <td>No</td>\n",
       "      <td>37990</td>\n",
       "      <td>50990</td>\n",
       "      <td>25</td>\n",
       "      <td>4.3</td>\n",
       "      <td>990</td>\n",
       "      <td>108</td>\n",
       "    </tr>\n",
       "    <tr>\n",
       "      <th>2</th>\n",
       "      <td>ASUS</td>\n",
       "      <td>Vivobook</td>\n",
       "      <td>Intel</td>\n",
       "      <td>Core i3</td>\n",
       "      <td>10th</td>\n",
       "      <td>8</td>\n",
       "      <td>DDR4</td>\n",
       "      <td>0</td>\n",
       "      <td>1024</td>\n",
       "      <td>Windows</td>\n",
       "      <td>...</td>\n",
       "      <td>14.1</td>\n",
       "      <td>1</td>\n",
       "      <td>No</td>\n",
       "      <td>No</td>\n",
       "      <td>32890</td>\n",
       "      <td>46990</td>\n",
       "      <td>30</td>\n",
       "      <td>3.9</td>\n",
       "      <td>28</td>\n",
       "      <td>4</td>\n",
       "    </tr>\n",
       "    <tr>\n",
       "      <th>3</th>\n",
       "      <td>HP</td>\n",
       "      <td>Core</td>\n",
       "      <td>Intel</td>\n",
       "      <td>Core i3</td>\n",
       "      <td>11th</td>\n",
       "      <td>8</td>\n",
       "      <td>DDR4</td>\n",
       "      <td>512</td>\n",
       "      <td>0</td>\n",
       "      <td>Windows</td>\n",
       "      <td>...</td>\n",
       "      <td>15.6</td>\n",
       "      <td>1</td>\n",
       "      <td>No</td>\n",
       "      <td>Yes</td>\n",
       "      <td>42990</td>\n",
       "      <td>57330</td>\n",
       "      <td>25</td>\n",
       "      <td>4.4</td>\n",
       "      <td>158</td>\n",
       "      <td>18</td>\n",
       "    </tr>\n",
       "    <tr>\n",
       "      <th>4</th>\n",
       "      <td>HP</td>\n",
       "      <td>Core</td>\n",
       "      <td>Intel</td>\n",
       "      <td>Core i5</td>\n",
       "      <td>11th</td>\n",
       "      <td>8</td>\n",
       "      <td>DDR4</td>\n",
       "      <td>512</td>\n",
       "      <td>0</td>\n",
       "      <td>Windows</td>\n",
       "      <td>...</td>\n",
       "      <td>15.6</td>\n",
       "      <td>0</td>\n",
       "      <td>No</td>\n",
       "      <td>No</td>\n",
       "      <td>54990</td>\n",
       "      <td>70171</td>\n",
       "      <td>21</td>\n",
       "      <td>4.2</td>\n",
       "      <td>116</td>\n",
       "      <td>15</td>\n",
       "    </tr>\n",
       "  </tbody>\n",
       "</table>\n",
       "<p>5 rows × 23 columns</p>\n",
       "</div>"
      ],
      "text/plain": [
       "  brand     model processor_brand processor_name processor_gnrtn ram_gb  \\\n",
       "0  ASUS   Celeron           Intel   Celeron Dual         Missing      4   \n",
       "1  ASUS  VivoBook           Intel        Core i3            10th      8   \n",
       "2  ASUS  Vivobook           Intel        Core i3            10th      8   \n",
       "3    HP      Core           Intel        Core i3            11th      8   \n",
       "4    HP      Core           Intel        Core i5            11th      8   \n",
       "\n",
       "  ram_type  ssd   hdd       os  ...  display_size  warranty Touchscreen  \\\n",
       "0     DDR4    0  1024  Windows  ...          15.6         1          No   \n",
       "1     DDR4  512     0  Windows  ...          15.6         1          No   \n",
       "2     DDR4    0  1024  Windows  ...          14.1         1          No   \n",
       "3     DDR4  512     0  Windows  ...          15.6         1          No   \n",
       "4     DDR4  512     0  Windows  ...          15.6         0          No   \n",
       "\n",
       "  msoffice  latest_price old_price discount  star_rating  ratings  reviews  \n",
       "0       No         23990     26990       11          3.8    15279     1947  \n",
       "1       No         37990     50990       25          4.3      990      108  \n",
       "2       No         32890     46990       30          3.9       28        4  \n",
       "3      Yes         42990     57330       25          4.4      158       18  \n",
       "4       No         54990     70171       21          4.2      116       15  \n",
       "\n",
       "[5 rows x 23 columns]"
      ]
     },
     "execution_count": 16,
     "metadata": {},
     "output_type": "execute_result"
    }
   ],
   "source": [
    "df.head()"
   ]
  },
  {
   "cell_type": "markdown",
   "id": "2e3d6ae9",
   "metadata": {},
   "source": [
    "# How many laptop have installed Ms-office"
   ]
  },
  {
   "cell_type": "code",
   "execution_count": 17,
   "id": "660f4a15",
   "metadata": {},
   "outputs": [
    {
     "data": {
      "text/plain": [
       "<AxesSubplot:ylabel='msoffice'>"
      ]
     },
     "execution_count": 17,
     "metadata": {},
     "output_type": "execute_result"
    },
    {
     "data": {
      "image/png": "[encoded data removed]",
      "text/plain": [
       "<Figure size 432x288 with 1 Axes>"
      ]
     },
     "metadata": {},
     "output_type": "display_data"
    }
   ],
   "source": [
    "df[\"msoffice\"].value_counts().plot(kind=\"pie\",autopct=\"%.2f%%\",shadow=True,explode=(0.0,0.1))"
   ]
  },
  {
   "cell_type": "markdown",
   "id": "246b616a",
   "metadata": {},
   "source": [
    "# How many laptop come with warranty"
   ]
  },
  {
   "cell_type": "code",
   "execution_count": 30,
   "id": "76eeb499",
   "metadata": {},
   "outputs": [
    {
     "data": {
      "image/png": "[encoded data removed]",
      "text/plain": [
       "<Figure size 432x288 with 1 Axes>"
      ]
     },
     "metadata": {},
     "output_type": "display_data"
    }
   ],
   "source": [
    "df[\"warranty\"].value_counts().plot(kind=\"pie\",autopct=\"%.2f%%\",shadow=True,explode=(0.0,0.0,0.0,0.0))\n",
    "plt.xlabel(\"Warranty Period in Years\")\n",
    "plt.ylabel(\"Value counts of laptop \")\n",
    "plt.title(\"laptop with warranty graph\")\n",
    "plt.grid()"
   ]
  },
  {
   "cell_type": "code",
   "execution_count": 19,
   "id": "fc03799e",
   "metadata": {},
   "outputs": [
    {
     "data": {
      "text/plain": [
       "99990    15\n",
       "59990    15\n",
       "64990    15\n",
       "54990    14\n",
       "79990    13\n",
       "Name: latest_price, dtype: int64"
      ]
     },
     "execution_count": 19,
     "metadata": {},
     "output_type": "execute_result"
    }
   ],
   "source": [
    "df[\"latest_price\"].value_counts().head()"
   ]
  },
  {
   "cell_type": "markdown",
   "id": "1628d214",
   "metadata": {},
   "source": [
    "# Most Higher price laptop "
   ]
  },
  {
   "cell_type": "code",
   "execution_count": 20,
   "id": "6728cde1",
   "metadata": {},
   "outputs": [
    {
     "data": {
      "text/html": [
       "<div>\n",
       "<style scoped>\n",
       "    .dataframe tbody tr th:only-of-type {\n",
       "        vertical-align: middle;\n",
       "    }\n",
       "\n",
       "    .dataframe tbody tr th {\n",
       "        vertical-align: top;\n",
       "    }\n",
       "\n",
       "    .dataframe thead th {\n",
       "        text-align: right;\n",
       "    }\n",
       "</style>\n",
       "<table border=\"1\" class=\"dataframe\">\n",
       "  <thead>\n",
       "    <tr style=\"text-align: right;\">\n",
       "      <th></th>\n",
       "      <th>brand</th>\n",
       "      <th>model</th>\n",
       "      <th>processor_brand</th>\n",
       "      <th>processor_name</th>\n",
       "      <th>processor_gnrtn</th>\n",
       "      <th>ram_gb</th>\n",
       "      <th>ram_type</th>\n",
       "      <th>ssd</th>\n",
       "      <th>hdd</th>\n",
       "      <th>os</th>\n",
       "      <th>...</th>\n",
       "      <th>display_size</th>\n",
       "      <th>warranty</th>\n",
       "      <th>Touchscreen</th>\n",
       "      <th>msoffice</th>\n",
       "      <th>latest_price</th>\n",
       "      <th>old_price</th>\n",
       "      <th>discount</th>\n",
       "      <th>star_rating</th>\n",
       "      <th>ratings</th>\n",
       "      <th>reviews</th>\n",
       "    </tr>\n",
       "  </thead>\n",
       "  <tbody>\n",
       "    <tr>\n",
       "      <th>625</th>\n",
       "      <td>ASUS</td>\n",
       "      <td>Zephyrus</td>\n",
       "      <td>Intel</td>\n",
       "      <td>Core i9</td>\n",
       "      <td>11th</td>\n",
       "      <td>32</td>\n",
       "      <td>DDR4</td>\n",
       "      <td>3072</td>\n",
       "      <td>0</td>\n",
       "      <td>Windows</td>\n",
       "      <td>...</td>\n",
       "      <td>17.3</td>\n",
       "      <td>1</td>\n",
       "      <td>No</td>\n",
       "      <td>No</td>\n",
       "      <td>441990</td>\n",
       "      <td>0</td>\n",
       "      <td>0</td>\n",
       "      <td>5.0</td>\n",
       "      <td>1</td>\n",
       "      <td>1</td>\n",
       "    </tr>\n",
       "  </tbody>\n",
       "</table>\n",
       "<p>1 rows × 23 columns</p>\n",
       "</div>"
      ],
      "text/plain": [
       "    brand     model processor_brand processor_name processor_gnrtn ram_gb  \\\n",
       "625  ASUS  Zephyrus           Intel        Core i9            11th     32   \n",
       "\n",
       "    ram_type   ssd  hdd       os  ...  display_size  warranty Touchscreen  \\\n",
       "625     DDR4  3072    0  Windows  ...          17.3         1          No   \n",
       "\n",
       "    msoffice  latest_price old_price discount  star_rating  ratings  reviews  \n",
       "625       No        441990         0        0          5.0        1        1  \n",
       "\n",
       "[1 rows x 23 columns]"
      ]
     },
     "execution_count": 20,
     "metadata": {},
     "output_type": "execute_result"
    }
   ],
   "source": [
    "df[df[\"latest_price\"]==df[\"latest_price\"].max()]"
   ]
  },
  {
   "cell_type": "markdown",
   "id": "3b11eb64",
   "metadata": {},
   "source": [
    "# Lower price laptop"
   ]
  },
  {
   "cell_type": "code",
   "execution_count": 21,
   "id": "c187ec67",
   "metadata": {},
   "outputs": [
    {
     "data": {
      "text/html": [
       "<div>\n",
       "<style scoped>\n",
       "    .dataframe tbody tr th:only-of-type {\n",
       "        vertical-align: middle;\n",
       "    }\n",
       "\n",
       "    .dataframe tbody tr th {\n",
       "        vertical-align: top;\n",
       "    }\n",
       "\n",
       "    .dataframe thead th {\n",
       "        text-align: right;\n",
       "    }\n",
       "</style>\n",
       "<table border=\"1\" class=\"dataframe\">\n",
       "  <thead>\n",
       "    <tr style=\"text-align: right;\">\n",
       "      <th></th>\n",
       "      <th>brand</th>\n",
       "      <th>model</th>\n",
       "      <th>processor_brand</th>\n",
       "      <th>processor_name</th>\n",
       "      <th>processor_gnrtn</th>\n",
       "      <th>ram_gb</th>\n",
       "      <th>ram_type</th>\n",
       "      <th>ssd</th>\n",
       "      <th>hdd</th>\n",
       "      <th>os</th>\n",
       "      <th>...</th>\n",
       "      <th>display_size</th>\n",
       "      <th>warranty</th>\n",
       "      <th>Touchscreen</th>\n",
       "      <th>msoffice</th>\n",
       "      <th>latest_price</th>\n",
       "      <th>old_price</th>\n",
       "      <th>discount</th>\n",
       "      <th>star_rating</th>\n",
       "      <th>ratings</th>\n",
       "      <th>reviews</th>\n",
       "    </tr>\n",
       "  </thead>\n",
       "  <tbody>\n",
       "    <tr>\n",
       "      <th>734</th>\n",
       "      <td>iball</td>\n",
       "      <td>CompBook</td>\n",
       "      <td>Intel</td>\n",
       "      <td>Pentium Quad</td>\n",
       "      <td>Missing</td>\n",
       "      <td>4</td>\n",
       "      <td>DDR3</td>\n",
       "      <td>0</td>\n",
       "      <td>0</td>\n",
       "      <td>Windows</td>\n",
       "      <td>...</td>\n",
       "      <td>0</td>\n",
       "      <td>0</td>\n",
       "      <td>No</td>\n",
       "      <td>No</td>\n",
       "      <td>13990</td>\n",
       "      <td>19999</td>\n",
       "      <td>30</td>\n",
       "      <td>3.8</td>\n",
       "      <td>1218</td>\n",
       "      <td>209</td>\n",
       "    </tr>\n",
       "  </tbody>\n",
       "</table>\n",
       "<p>1 rows × 23 columns</p>\n",
       "</div>"
      ],
      "text/plain": [
       "     brand     model processor_brand processor_name processor_gnrtn ram_gb  \\\n",
       "734  iball  CompBook           Intel   Pentium Quad         Missing      4   \n",
       "\n",
       "    ram_type  ssd  hdd       os  ...  display_size  warranty Touchscreen  \\\n",
       "734     DDR3    0    0  Windows  ...             0         0          No   \n",
       "\n",
       "    msoffice  latest_price old_price discount  star_rating  ratings  reviews  \n",
       "734       No         13990     19999       30          3.8     1218      209  \n",
       "\n",
       "[1 rows x 23 columns]"
      ]
     },
     "execution_count": 21,
     "metadata": {},
     "output_type": "execute_result"
    }
   ],
   "source": [
    "df[df[\"latest_price\"]==df[\"latest_price\"].min()]"
   ]
  },
  {
   "cell_type": "markdown",
   "id": "028639a1",
   "metadata": {},
   "source": [
    "# Checking for relationship between processor & price"
   ]
  },
  {
   "cell_type": "code",
   "execution_count": 22,
   "id": "8c2726e9",
   "metadata": {},
   "outputs": [
    {
     "data": {
      "text/plain": [
       "<AxesSubplot:xlabel='latest_price', ylabel='processor_name'>"
      ]
     },
     "execution_count": 22,
     "metadata": {},
     "output_type": "execute_result"
    },
    {
     "data": {
      "image/png": "[encoded data removed]",
      "text/plain": [
       "<Figure size 720x576 with 1 Axes>"
      ]
     },
     "metadata": {
      "needs_background": "light"
     },
     "output_type": "display_data"
    }
   ],
   "source": [
    "\n",
    "plt.figure(figsize=(10,8))\n",
    "sns.scatterplot(data=df,x=\"latest_price\",y=\"processor_name\")"
   ]
  },
  {
   "cell_type": "markdown",
   "id": "eae5dca5",
   "metadata": {},
   "source": [
    "# Star Rating According to brand name"
   ]
  },
  {
   "cell_type": "code",
   "execution_count": 23,
   "id": "b073b96b",
   "metadata": {},
   "outputs": [
    {
     "data": {
      "image/png": "[encoded data removed]",
      "text/plain": [
       "<Figure size 720x576 with 1 Axes>"
      ]
     },
     "metadata": {
      "needs_background": "light"
     },
     "output_type": "display_data"
    }
   ],
   "source": [
    "\n",
    "plt.figure(figsize=(10,8))\n",
    "sns.scatterplot(data=df,x=\"star_rating\",y=\"brand\")\n",
    "plt.title(\"Star Rating According Brand Name\")\n",
    "plt.xlabel(\"No of stars out of 5\")\n",
    "plt.ylabel(\"Brand Names\")\n",
    "plt.grid()"
   ]
  },
  {
   "cell_type": "code",
   "execution_count": 24,
   "id": "a26817b2",
   "metadata": {},
   "outputs": [
    {
     "data": {
      "image/png": "[encoded data removed]",
      "text/plain": [
       "<Figure size 720x288 with 1 Axes>"
      ]
     },
     "metadata": {
      "needs_background": "light"
     },
     "output_type": "display_data"
    }
   ],
   "source": [
    "#checking how prices of laptop spread \n",
    "plt.figure(figsize=(10,4))\n",
    "sns.boxplot(data=df,x=\"latest_price\")\n",
    "plt.xlabel(\"Prices of laptop\")\n",
    "plt.grid()"
   ]
  },
  {
   "cell_type": "markdown",
   "id": "abd0bf0c",
   "metadata": {},
   "source": [
    "# Checking correlation between data"
   ]
  },
  {
   "cell_type": "code",
   "execution_count": 25,
   "id": "b6eeb543",
   "metadata": {},
   "outputs": [
    {
     "data": {
      "text/html": [
       "<style type=\"text/css\">\n",
       "#T_93a55_row0_col0, #T_93a55_row1_col1, #T_93a55_row2_col2, #T_93a55_row3_col3, #T_93a55_row4_col4, #T_93a55_row5_col5, #T_93a55_row6_col6, #T_93a55_row7_col7, #T_93a55_row8_col8, #T_93a55_row9_col9, #T_93a55_row10_col10 {\n",
       "  background-color: #023858;\n",
       "  color: #f1f1f1;\n",
       "}\n",
       "#T_93a55_row0_col1, #T_93a55_row0_col9, #T_93a55_row0_col10, #T_93a55_row1_col0, #T_93a55_row1_col4, #T_93a55_row1_col5, #T_93a55_row1_col6, #T_93a55_row2_col3, #T_93a55_row3_col2, #T_93a55_row5_col7, #T_93a55_row5_col8 {\n",
       "  background-color: #fff7fb;\n",
       "  color: #000000;\n",
       "}\n",
       "#T_93a55_row0_col2, #T_93a55_row9_col8 {\n",
       "  background-color: #b7c5df;\n",
       "  color: #000000;\n",
       "}\n",
       "#T_93a55_row0_col3 {\n",
       "  background-color: #a8bedc;\n",
       "  color: #000000;\n",
       "}\n",
       "#T_93a55_row0_col4, #T_93a55_row4_col6 {\n",
       "  background-color: #d2d2e7;\n",
       "  color: #000000;\n",
       "}\n",
       "#T_93a55_row0_col5 {\n",
       "  background-color: #358fc0;\n",
       "  color: #f1f1f1;\n",
       "}\n",
       "#T_93a55_row0_col6 {\n",
       "  background-color: #4897c4;\n",
       "  color: #f1f1f1;\n",
       "}\n",
       "#T_93a55_row0_col7 {\n",
       "  background-color: #cccfe5;\n",
       "  color: #000000;\n",
       "}\n",
       "#T_93a55_row0_col8 {\n",
       "  background-color: #faf2f8;\n",
       "  color: #000000;\n",
       "}\n",
       "#T_93a55_row1_col2, #T_93a55_row2_col10, #T_93a55_row8_col3 {\n",
       "  background-color: #eee9f3;\n",
       "  color: #000000;\n",
       "}\n",
       "#T_93a55_row1_col3, #T_93a55_row8_col5, #T_93a55_row9_col5 {\n",
       "  background-color: #f7f0f7;\n",
       "  color: #000000;\n",
       "}\n",
       "#T_93a55_row1_col7 {\n",
       "  background-color: #f0eaf4;\n",
       "  color: #000000;\n",
       "}\n",
       "#T_93a55_row1_col8 {\n",
       "  background-color: #e2dfee;\n",
       "  color: #000000;\n",
       "}\n",
       "#T_93a55_row1_col9, #T_93a55_row1_col10, #T_93a55_row7_col8 {\n",
       "  background-color: #dcdaeb;\n",
       "  color: #000000;\n",
       "}\n",
       "#T_93a55_row2_col0 {\n",
       "  background-color: #7eadd1;\n",
       "  color: #f1f1f1;\n",
       "}\n",
       "#T_93a55_row2_col1 {\n",
       "  background-color: #bdc8e1;\n",
       "  color: #000000;\n",
       "}\n",
       "#T_93a55_row2_col4 {\n",
       "  background-color: #b8c6e0;\n",
       "  color: #000000;\n",
       "}\n",
       "#T_93a55_row2_col5 {\n",
       "  background-color: #e9e5f1;\n",
       "  color: #000000;\n",
       "}\n",
       "#T_93a55_row2_col6, #T_93a55_row9_col0 {\n",
       "  background-color: #dddbec;\n",
       "  color: #000000;\n",
       "}\n",
       "#T_93a55_row2_col7 {\n",
       "  background-color: #dad9ea;\n",
       "  color: #000000;\n",
       "}\n",
       "#T_93a55_row2_col8 {\n",
       "  background-color: #e0deed;\n",
       "  color: #000000;\n",
       "}\n",
       "#T_93a55_row2_col9, #T_93a55_row3_col9, #T_93a55_row6_col2, #T_93a55_row7_col4 {\n",
       "  background-color: #eee8f3;\n",
       "  color: #000000;\n",
       "}\n",
       "#T_93a55_row3_col0 {\n",
       "  background-color: #6fa7ce;\n",
       "  color: #f1f1f1;\n",
       "}\n",
       "#T_93a55_row3_col1 {\n",
       "  background-color: #cdd0e5;\n",
       "  color: #000000;\n",
       "}\n",
       "#T_93a55_row3_col4 {\n",
       "  background-color: #fef6fb;\n",
       "  color: #000000;\n",
       "}\n",
       "#T_93a55_row3_col5 {\n",
       "  background-color: #4a98c5;\n",
       "  color: #f1f1f1;\n",
       "}\n",
       "#T_93a55_row3_col6 {\n",
       "  background-color: #509ac6;\n",
       "  color: #f1f1f1;\n",
       "}\n",
       "#T_93a55_row3_col7 {\n",
       "  background-color: #d9d8ea;\n",
       "  color: #000000;\n",
       "}\n",
       "#T_93a55_row3_col8 {\n",
       "  background-color: #ece7f2;\n",
       "  color: #000000;\n",
       "}\n",
       "#T_93a55_row3_col10 {\n",
       "  background-color: #ede8f3;\n",
       "  color: #000000;\n",
       "}\n",
       "#T_93a55_row4_col0 {\n",
       "  background-color: #86b0d3;\n",
       "  color: #000000;\n",
       "}\n",
       "#T_93a55_row4_col1 {\n",
       "  background-color: #c5cce3;\n",
       "  color: #000000;\n",
       "}\n",
       "#T_93a55_row4_col2, #T_93a55_row7_col6 {\n",
       "  background-color: #a5bddb;\n",
       "  color: #000000;\n",
       "}\n",
       "#T_93a55_row4_col3, #T_93a55_row5_col4, #T_93a55_row9_col2, #T_93a55_row9_col3, #T_93a55_row9_col6, #T_93a55_row10_col3 {\n",
       "  background-color: #f2ecf5;\n",
       "  color: #000000;\n",
       "}\n",
       "#T_93a55_row4_col5, #T_93a55_row4_col8 {\n",
       "  background-color: #d7d6e9;\n",
       "  color: #000000;\n",
       "}\n",
       "#T_93a55_row4_col7, #T_93a55_row8_col0, #T_93a55_row8_col7 {\n",
       "  background-color: #d4d4e8;\n",
       "  color: #000000;\n",
       "}\n",
       "#T_93a55_row4_col9, #T_93a55_row10_col0 {\n",
       "  background-color: #dedcec;\n",
       "  color: #000000;\n",
       "}\n",
       "#T_93a55_row4_col10 {\n",
       "  background-color: #dfddec;\n",
       "  color: #000000;\n",
       "}\n",
       "#T_93a55_row5_col0 {\n",
       "  background-color: #1e80b8;\n",
       "  color: #f1f1f1;\n",
       "}\n",
       "#T_93a55_row5_col1 {\n",
       "  background-color: #e5e1ef;\n",
       "  color: #000000;\n",
       "}\n",
       "#T_93a55_row5_col2, #T_93a55_row6_col8 {\n",
       "  background-color: #f4eef6;\n",
       "  color: #000000;\n",
       "}\n",
       "#T_93a55_row5_col3 {\n",
       "  background-color: #5c9fc9;\n",
       "  color: #f1f1f1;\n",
       "}\n",
       "#T_93a55_row5_col6 {\n",
       "  background-color: #0567a2;\n",
       "  color: #f1f1f1;\n",
       "}\n",
       "#T_93a55_row5_col9, #T_93a55_row7_col5 {\n",
       "  background-color: #fdf5fa;\n",
       "  color: #000000;\n",
       "}\n",
       "#T_93a55_row5_col10 {\n",
       "  background-color: #fef6fa;\n",
       "  color: #000000;\n",
       "}\n",
       "#T_93a55_row6_col0 {\n",
       "  background-color: #2d8abd;\n",
       "  color: #f1f1f1;\n",
       "}\n",
       "#T_93a55_row6_col1, #T_93a55_row8_col6 {\n",
       "  background-color: #e8e4f0;\n",
       "  color: #000000;\n",
       "}\n",
       "#T_93a55_row6_col3 {\n",
       "  background-color: #65a3cb;\n",
       "  color: #f1f1f1;\n",
       "}\n",
       "#T_93a55_row6_col4 {\n",
       "  background-color: #f1ebf4;\n",
       "  color: #000000;\n",
       "}\n",
       "#T_93a55_row6_col5 {\n",
       "  background-color: #0568a3;\n",
       "  color: #f1f1f1;\n",
       "}\n",
       "#T_93a55_row6_col7 {\n",
       "  background-color: #acc0dd;\n",
       "  color: #000000;\n",
       "}\n",
       "#T_93a55_row6_col9 {\n",
       "  background-color: #fbf4f9;\n",
       "  color: #000000;\n",
       "}\n",
       "#T_93a55_row6_col10 {\n",
       "  background-color: #fcf4fa;\n",
       "  color: #000000;\n",
       "}\n",
       "#T_93a55_row7_col0 {\n",
       "  background-color: #a1bbda;\n",
       "  color: #000000;\n",
       "}\n",
       "#T_93a55_row7_col1 {\n",
       "  background-color: #ced0e6;\n",
       "  color: #000000;\n",
       "}\n",
       "#T_93a55_row7_col2, #T_93a55_row10_col7 {\n",
       "  background-color: #e6e2ef;\n",
       "  color: #000000;\n",
       "}\n",
       "#T_93a55_row7_col3, #T_93a55_row8_col2 {\n",
       "  background-color: #e4e1ef;\n",
       "  color: #000000;\n",
       "}\n",
       "#T_93a55_row7_col9 {\n",
       "  background-color: #ede7f2;\n",
       "  color: #000000;\n",
       "}\n",
       "#T_93a55_row7_col10, #T_93a55_row8_col4 {\n",
       "  background-color: #eae6f1;\n",
       "  color: #000000;\n",
       "}\n",
       "#T_93a55_row8_col1, #T_93a55_row8_col10 {\n",
       "  background-color: #b1c2de;\n",
       "  color: #000000;\n",
       "}\n",
       "#T_93a55_row8_col9 {\n",
       "  background-color: #b3c3de;\n",
       "  color: #000000;\n",
       "}\n",
       "#T_93a55_row9_col1 {\n",
       "  background-color: #adc1dd;\n",
       "  color: #000000;\n",
       "}\n",
       "#T_93a55_row9_col4 {\n",
       "  background-color: #f1ebf5;\n",
       "  color: #000000;\n",
       "}\n",
       "#T_93a55_row9_col7 {\n",
       "  background-color: #e7e3f0;\n",
       "  color: #000000;\n",
       "}\n",
       "#T_93a55_row9_col10, #T_93a55_row10_col9 {\n",
       "  background-color: #023b5d;\n",
       "  color: #f1f1f1;\n",
       "}\n",
       "#T_93a55_row10_col1 {\n",
       "  background-color: #afc1dd;\n",
       "  color: #000000;\n",
       "}\n",
       "#T_93a55_row10_col2, #T_93a55_row10_col6 {\n",
       "  background-color: #f4edf6;\n",
       "  color: #000000;\n",
       "}\n",
       "#T_93a55_row10_col4 {\n",
       "  background-color: #f3edf5;\n",
       "  color: #000000;\n",
       "}\n",
       "#T_93a55_row10_col5 {\n",
       "  background-color: #f8f1f8;\n",
       "  color: #000000;\n",
       "}\n",
       "#T_93a55_row10_col8 {\n",
       "  background-color: #b5c4df;\n",
       "  color: #000000;\n",
       "}\n",
       "</style>\n",
       "<table id=\"T_93a55_\">\n",
       "  <thead>\n",
       "    <tr>\n",
       "      <th class=\"blank level0\" >&nbsp;</th>\n",
       "      <th class=\"col_heading level0 col0\" >ssd</th>\n",
       "      <th class=\"col_heading level0 col1\" >hdd</th>\n",
       "      <th class=\"col_heading level0 col2\" >os_bit</th>\n",
       "      <th class=\"col_heading level0 col3\" >graphic_card_gb</th>\n",
       "      <th class=\"col_heading level0 col4\" >warranty</th>\n",
       "      <th class=\"col_heading level0 col5\" >latest_price</th>\n",
       "      <th class=\"col_heading level0 col6\" >old_price</th>\n",
       "      <th class=\"col_heading level0 col7\" >discount</th>\n",
       "      <th class=\"col_heading level0 col8\" >star_rating</th>\n",
       "      <th class=\"col_heading level0 col9\" >ratings</th>\n",
       "      <th class=\"col_heading level0 col10\" >reviews</th>\n",
       "    </tr>\n",
       "  </thead>\n",
       "  <tbody>\n",
       "    <tr>\n",
       "      <th id=\"T_93a55_level0_row0\" class=\"row_heading level0 row0\" >ssd</th>\n",
       "      <td id=\"T_93a55_row0_col0\" class=\"data row0 col0\" >1.000000</td>\n",
       "      <td id=\"T_93a55_row0_col1\" class=\"data row0 col1\" >-0.461789</td>\n",
       "      <td id=\"T_93a55_row0_col2\" class=\"data row0 col2\" >0.233743</td>\n",
       "      <td id=\"T_93a55_row0_col3\" class=\"data row0 col3\" >0.280814</td>\n",
       "      <td id=\"T_93a55_row0_col4\" class=\"data row0 col4\" >0.204786</td>\n",
       "      <td id=\"T_93a55_row0_col5\" class=\"data row0 col5\" >0.541658</td>\n",
       "      <td id=\"T_93a55_row0_col6\" class=\"data row0 col6\" >0.485562</td>\n",
       "      <td id=\"T_93a55_row0_col7\" class=\"data row0 col7\" >0.106299</td>\n",
       "      <td id=\"T_93a55_row0_col8\" class=\"data row0 col8\" >-0.120052</td>\n",
       "      <td id=\"T_93a55_row0_col9\" class=\"data row0 col9\" >-0.178767</td>\n",
       "      <td id=\"T_93a55_row0_col10\" class=\"data row0 col10\" >-0.183988</td>\n",
       "    </tr>\n",
       "    <tr>\n",
       "      <th id=\"T_93a55_level0_row1\" class=\"row_heading level0 row1\" >hdd</th>\n",
       "      <td id=\"T_93a55_row1_col0\" class=\"data row1 col0\" >-0.461789</td>\n",
       "      <td id=\"T_93a55_row1_col1\" class=\"data row1 col1\" >1.000000</td>\n",
       "      <td id=\"T_93a55_row1_col2\" class=\"data row1 col2\" >-0.014646</td>\n",
       "      <td id=\"T_93a55_row1_col3\" class=\"data row1 col3\" >-0.080640</td>\n",
       "      <td id=\"T_93a55_row1_col4\" class=\"data row1 col4\" >-0.049664</td>\n",
       "      <td id=\"T_93a55_row1_col5\" class=\"data row1 col5\" >-0.230422</td>\n",
       "      <td id=\"T_93a55_row1_col6\" class=\"data row1 col6\" >-0.252141</td>\n",
       "      <td id=\"T_93a55_row1_col7\" class=\"data row1 col7\" >-0.086074</td>\n",
       "      <td id=\"T_93a55_row1_col8\" class=\"data row1 col8\" >0.037239</td>\n",
       "      <td id=\"T_93a55_row1_col9\" class=\"data row1 col9\" >0.055294</td>\n",
       "      <td id=\"T_93a55_row1_col10\" class=\"data row1 col10\" >0.048527</td>\n",
       "    </tr>\n",
       "    <tr>\n",
       "      <th id=\"T_93a55_level0_row2\" class=\"row_heading level0 row2\" >os_bit</th>\n",
       "      <td id=\"T_93a55_row2_col0\" class=\"data row2 col0\" >0.233743</td>\n",
       "      <td id=\"T_93a55_row2_col1\" class=\"data row2 col1\" >-0.014646</td>\n",
       "      <td id=\"T_93a55_row2_col2\" class=\"data row2 col2\" >1.000000</td>\n",
       "      <td id=\"T_93a55_row2_col3\" class=\"data row2 col3\" >-0.139860</td>\n",
       "      <td id=\"T_93a55_row2_col4\" class=\"data row2 col4\" >0.290472</td>\n",
       "      <td id=\"T_93a55_row2_col5\" class=\"data row2 col5\" >-0.058389</td>\n",
       "      <td id=\"T_93a55_row2_col6\" class=\"data row2 col6\" >-0.007944</td>\n",
       "      <td id=\"T_93a55_row2_col7\" class=\"data row2 col7\" >0.037806</td>\n",
       "      <td id=\"T_93a55_row2_col8\" class=\"data row2 col8\" >0.043147</td>\n",
       "      <td id=\"T_93a55_row2_col9\" class=\"data row2 col9\" >-0.041343</td>\n",
       "      <td id=\"T_93a55_row2_col10\" class=\"data row2 col10\" >-0.051371</td>\n",
       "    </tr>\n",
       "    <tr>\n",
       "      <th id=\"T_93a55_level0_row3\" class=\"row_heading level0 row3\" >graphic_card_gb</th>\n",
       "      <td id=\"T_93a55_row3_col0\" class=\"data row3 col0\" >0.280814</td>\n",
       "      <td id=\"T_93a55_row3_col1\" class=\"data row3 col1\" >-0.080640</td>\n",
       "      <td id=\"T_93a55_row3_col2\" class=\"data row3 col2\" >-0.139860</td>\n",
       "      <td id=\"T_93a55_row3_col3\" class=\"data row3 col3\" >1.000000</td>\n",
       "      <td id=\"T_93a55_row3_col4\" class=\"data row3 col4\" >-0.042251</td>\n",
       "      <td id=\"T_93a55_row3_col5\" class=\"data row3 col5\" >0.487809</td>\n",
       "      <td id=\"T_93a55_row3_col6\" class=\"data row3 col6\" >0.462580</td>\n",
       "      <td id=\"T_93a55_row3_col7\" class=\"data row3 col7\" >0.045117</td>\n",
       "      <td id=\"T_93a55_row3_col8\" class=\"data row3 col8\" >-0.013381</td>\n",
       "      <td id=\"T_93a55_row3_col9\" class=\"data row3 col9\" >-0.044821</td>\n",
       "      <td id=\"T_93a55_row3_col10\" class=\"data row3 col10\" >-0.042207</td>\n",
       "    </tr>\n",
       "    <tr>\n",
       "      <th id=\"T_93a55_level0_row4\" class=\"row_heading level0 row4\" >warranty</th>\n",
       "      <td id=\"T_93a55_row4_col0\" class=\"data row4 col0\" >0.204786</td>\n",
       "      <td id=\"T_93a55_row4_col1\" class=\"data row4 col1\" >-0.049664</td>\n",
       "      <td id=\"T_93a55_row4_col2\" class=\"data row4 col2\" >0.290472</td>\n",
       "      <td id=\"T_93a55_row4_col3\" class=\"data row4 col3\" >-0.042251</td>\n",
       "      <td id=\"T_93a55_row4_col4\" class=\"data row4 col4\" >1.000000</td>\n",
       "      <td id=\"T_93a55_row4_col5\" class=\"data row4 col5\" >0.039767</td>\n",
       "      <td id=\"T_93a55_row4_col6\" class=\"data row4 col6\" >0.051954</td>\n",
       "      <td id=\"T_93a55_row4_col7\" class=\"data row4 col7\" >0.071675</td>\n",
       "      <td id=\"T_93a55_row4_col8\" class=\"data row4 col8\" >0.093033</td>\n",
       "      <td id=\"T_93a55_row4_col9\" class=\"data row4 col9\" >0.046686</td>\n",
       "      <td id=\"T_93a55_row4_col10\" class=\"data row4 col10\" >0.034957</td>\n",
       "    </tr>\n",
       "    <tr>\n",
       "      <th id=\"T_93a55_level0_row5\" class=\"row_heading level0 row5\" >latest_price</th>\n",
       "      <td id=\"T_93a55_row5_col0\" class=\"data row5 col0\" >0.541658</td>\n",
       "      <td id=\"T_93a55_row5_col1\" class=\"data row5 col1\" >-0.230422</td>\n",
       "      <td id=\"T_93a55_row5_col2\" class=\"data row5 col2\" >-0.058389</td>\n",
       "      <td id=\"T_93a55_row5_col3\" class=\"data row5 col3\" >0.487809</td>\n",
       "      <td id=\"T_93a55_row5_col4\" class=\"data row5 col4\" >0.039767</td>\n",
       "      <td id=\"T_93a55_row5_col5\" class=\"data row5 col5\" >1.000000</td>\n",
       "      <td id=\"T_93a55_row5_col6\" class=\"data row5 col6\" >0.748372</td>\n",
       "      <td id=\"T_93a55_row5_col7\" class=\"data row5 col7\" >-0.212207</td>\n",
       "      <td id=\"T_93a55_row5_col8\" class=\"data row5 col8\" >-0.161925</td>\n",
       "      <td id=\"T_93a55_row5_col9\" class=\"data row5 col9\" >-0.164366</td>\n",
       "      <td id=\"T_93a55_row5_col10\" class=\"data row5 col10\" >-0.170354</td>\n",
       "    </tr>\n",
       "    <tr>\n",
       "      <th id=\"T_93a55_level0_row6\" class=\"row_heading level0 row6\" >old_price</th>\n",
       "      <td id=\"T_93a55_row6_col0\" class=\"data row6 col0\" >0.485562</td>\n",
       "      <td id=\"T_93a55_row6_col1\" class=\"data row6 col1\" >-0.252141</td>\n",
       "      <td id=\"T_93a55_row6_col2\" class=\"data row6 col2\" >-0.007944</td>\n",
       "      <td id=\"T_93a55_row6_col3\" class=\"data row6 col3\" >0.462580</td>\n",
       "      <td id=\"T_93a55_row6_col4\" class=\"data row6 col4\" >0.051954</td>\n",
       "      <td id=\"T_93a55_row6_col5\" class=\"data row6 col5\" >0.748372</td>\n",
       "      <td id=\"T_93a55_row6_col6\" class=\"data row6 col6\" >1.000000</td>\n",
       "      <td id=\"T_93a55_row6_col7\" class=\"data row6 col7\" >0.219714</td>\n",
       "      <td id=\"T_93a55_row6_col8\" class=\"data row6 col8\" >-0.075707</td>\n",
       "      <td id=\"T_93a55_row6_col9\" class=\"data row6 col9\" >-0.147429</td>\n",
       "      <td id=\"T_93a55_row6_col10\" class=\"data row6 col10\" >-0.157942</td>\n",
       "    </tr>\n",
       "    <tr>\n",
       "      <th id=\"T_93a55_level0_row7\" class=\"row_heading level0 row7\" >discount</th>\n",
       "      <td id=\"T_93a55_row7_col0\" class=\"data row7 col0\" >0.106299</td>\n",
       "      <td id=\"T_93a55_row7_col1\" class=\"data row7 col1\" >-0.086074</td>\n",
       "      <td id=\"T_93a55_row7_col2\" class=\"data row7 col2\" >0.037806</td>\n",
       "      <td id=\"T_93a55_row7_col3\" class=\"data row7 col3\" >0.045117</td>\n",
       "      <td id=\"T_93a55_row7_col4\" class=\"data row7 col4\" >0.071675</td>\n",
       "      <td id=\"T_93a55_row7_col5\" class=\"data row7 col5\" >-0.212207</td>\n",
       "      <td id=\"T_93a55_row7_col6\" class=\"data row7 col6\" >0.219714</td>\n",
       "      <td id=\"T_93a55_row7_col7\" class=\"data row7 col7\" >1.000000</td>\n",
       "      <td id=\"T_93a55_row7_col8\" class=\"data row7 col8\" >0.069302</td>\n",
       "      <td id=\"T_93a55_row7_col9\" class=\"data row7 col9\" >-0.034152</td>\n",
       "      <td id=\"T_93a55_row7_col10\" class=\"data row7 col10\" >-0.026205</td>\n",
       "    </tr>\n",
       "    <tr>\n",
       "      <th id=\"T_93a55_level0_row8\" class=\"row_heading level0 row8\" >star_rating</th>\n",
       "      <td id=\"T_93a55_row8_col0\" class=\"data row8 col0\" >-0.120052</td>\n",
       "      <td id=\"T_93a55_row8_col1\" class=\"data row8 col1\" >0.037239</td>\n",
       "      <td id=\"T_93a55_row8_col2\" class=\"data row8 col2\" >0.043147</td>\n",
       "      <td id=\"T_93a55_row8_col3\" class=\"data row8 col3\" >-0.013381</td>\n",
       "      <td id=\"T_93a55_row8_col4\" class=\"data row8 col4\" >0.093033</td>\n",
       "      <td id=\"T_93a55_row8_col5\" class=\"data row8 col5\" >-0.161925</td>\n",
       "      <td id=\"T_93a55_row8_col6\" class=\"data row8 col6\" >-0.075707</td>\n",
       "      <td id=\"T_93a55_row8_col7\" class=\"data row8 col7\" >0.069302</td>\n",
       "      <td id=\"T_93a55_row8_col8\" class=\"data row8 col8\" >1.000000</td>\n",
       "      <td id=\"T_93a55_row8_col9\" class=\"data row8 col9\" >0.217302</td>\n",
       "      <td id=\"T_93a55_row8_col10\" class=\"data row8 col10\" >0.220484</td>\n",
       "    </tr>\n",
       "    <tr>\n",
       "      <th id=\"T_93a55_level0_row9\" class=\"row_heading level0 row9\" >ratings</th>\n",
       "      <td id=\"T_93a55_row9_col0\" class=\"data row9 col0\" >-0.178767</td>\n",
       "      <td id=\"T_93a55_row9_col1\" class=\"data row9 col1\" >0.055294</td>\n",
       "      <td id=\"T_93a55_row9_col2\" class=\"data row9 col2\" >-0.041343</td>\n",
       "      <td id=\"T_93a55_row9_col3\" class=\"data row9 col3\" >-0.044821</td>\n",
       "      <td id=\"T_93a55_row9_col4\" class=\"data row9 col4\" >0.046686</td>\n",
       "      <td id=\"T_93a55_row9_col5\" class=\"data row9 col5\" >-0.164366</td>\n",
       "      <td id=\"T_93a55_row9_col6\" class=\"data row9 col6\" >-0.147429</td>\n",
       "      <td id=\"T_93a55_row9_col7\" class=\"data row9 col7\" >-0.034152</td>\n",
       "      <td id=\"T_93a55_row9_col8\" class=\"data row9 col8\" >0.217302</td>\n",
       "      <td id=\"T_93a55_row9_col9\" class=\"data row9 col9\" >1.000000</td>\n",
       "      <td id=\"T_93a55_row9_col10\" class=\"data row9 col10\" >0.982179</td>\n",
       "    </tr>\n",
       "    <tr>\n",
       "      <th id=\"T_93a55_level0_row10\" class=\"row_heading level0 row10\" >reviews</th>\n",
       "      <td id=\"T_93a55_row10_col0\" class=\"data row10 col0\" >-0.183988</td>\n",
       "      <td id=\"T_93a55_row10_col1\" class=\"data row10 col1\" >0.048527</td>\n",
       "      <td id=\"T_93a55_row10_col2\" class=\"data row10 col2\" >-0.051371</td>\n",
       "      <td id=\"T_93a55_row10_col3\" class=\"data row10 col3\" >-0.042207</td>\n",
       "      <td id=\"T_93a55_row10_col4\" class=\"data row10 col4\" >0.034957</td>\n",
       "      <td id=\"T_93a55_row10_col5\" class=\"data row10 col5\" >-0.170354</td>\n",
       "      <td id=\"T_93a55_row10_col6\" class=\"data row10 col6\" >-0.157942</td>\n",
       "      <td id=\"T_93a55_row10_col7\" class=\"data row10 col7\" >-0.026205</td>\n",
       "      <td id=\"T_93a55_row10_col8\" class=\"data row10 col8\" >0.220484</td>\n",
       "      <td id=\"T_93a55_row10_col9\" class=\"data row10 col9\" >0.982179</td>\n",
       "      <td id=\"T_93a55_row10_col10\" class=\"data row10 col10\" >1.000000</td>\n",
       "    </tr>\n",
       "  </tbody>\n",
       "</table>\n"
      ],
      "text/plain": [
       "<pandas.io.formats.style.Styler at 0x23ea7f411f0>"
      ]
     },
     "execution_count": 25,
     "metadata": {},
     "output_type": "execute_result"
    }
   ],
   "source": [
    "df.corr().style.background_gradient() "
   ]
  },
  {
   "cell_type": "markdown",
   "id": "8cd3401e",
   "metadata": {},
   "source": [
    "# How many laptop have ssd or hdd and how many laptop have two of them"
   ]
  },
  {
   "cell_type": "code",
   "execution_count": 26,
   "id": "d96e112c",
   "metadata": {},
   "outputs": [
    {
     "data": {
      "text/plain": [
       "ssd   hdd \n",
       "512   0       411\n",
       "256   0       128\n",
       "1024  0       111\n",
       "0     1024     87\n",
       "256   1024     73\n",
       "0     0        64\n",
       "128   0        11\n",
       "512   1024      3\n",
       "      512       2\n",
       "2048  0         2\n",
       "0     2048      1\n",
       "32    0         1\n",
       "128   1024      1\n",
       "3072  0         1\n",
       "dtype: int64"
      ]
     },
     "execution_count": 26,
     "metadata": {},
     "output_type": "execute_result"
    }
   ],
   "source": [
    "df[[\"ssd\",\"hdd\"]].value_counts()"
   ]
  },
  {
   "cell_type": "code",
   "execution_count": 27,
   "id": "1944a08c",
   "metadata": {},
   "outputs": [
    {
     "data": {
      "text/plain": [
       "<matplotlib.legend.Legend at 0x23ea8278b20>"
      ]
     },
     "execution_count": 27,
     "metadata": {},
     "output_type": "execute_result"
    },
    {
     "data": {
      "image/png": "[encoded data removed]",
      "text/plain": [
       "<Figure size 432x288 with 1 Axes>"
      ]
     },
     "metadata": {
      "needs_background": "light"
     },
     "output_type": "display_data"
    }
   ],
   "source": [
    "df[[\"ssd\",\"hdd\"]].value_counts().plot(kind=\"bar\")\n",
    "plt.xlabel(\"ssd or hdd\")\n",
    "plt.ylabel(\"value counts of laptop\")\n",
    "plt.title(\"Hard disk / SSD Distribution graph\")\n",
    "plt.grid()\n",
    "plt.legend()"
   ]
  },
  {
   "cell_type": "code",
   "execution_count": null,
   "id": "49ff90dd",
   "metadata": {},
   "outputs": [],
   "source": []
  },
  {
   "cell_type": "markdown",
   "id": "60ce460d",
   "metadata": {},
   "source": [
    "# Conclusion"
   ]
  },
  {
   "cell_type": "markdown",
   "id": "621f43ec",
   "metadata": {},
   "source": [
    "* This data represents configuration of diffrent types of laptop models, Null/missing values of dataset are filled up\n",
    "  filna() method of pandas.\n",
    "\n",
    "* This data set has 23 columns & 896 rows. In this dataset most of the data come with object data-type and remaining data \n",
    "  icludes numeric and floating data types.\n",
    "  \n",
    "* The average price of laptop is Rs.76,309 , most of the laptop price has range between Rs.29,000 to Rs.1,23,000.\n",
    "\n",
    "* List of most sold laptop according to brand:\n",
    "  1) Asus\n",
    "  2) Dell\n",
    "  3) Lenovo\n",
    "  4) HP\n",
    "  5) Acer\n",
    "\n",
    "* Core i5 processor is most used processor in laptops and 11th generation is most demanded generation\n",
    "  in laptops.\n",
    "  \n",
    "* There are 500+ laptops have installed 512GB SSD.\n",
    "\n",
    "* Asus brand laptops have most rating and reviews as well.\n",
    "\n",
    "* Windows is most common used operating system in laptops. There are only 11% laptop have touchscreen feature and\n",
    "  32 % laptop have installed Ms Office . \n",
    "  \n",
    "* There are 37% laptops comes without warranty and remaining laptops comes with either 1 Year,2 Year or 3 Year warranty.\n",
    "\n",
    "* The most expensive laptop in dataset is Asus Zephyrus &\n",
    "  The lowest cost laptop name is I ball compbook"
   ]
  },
  {
   "cell_type": "code",
   "execution_count": null,
   "id": "61aad3fd",
   "metadata": {},
   "outputs": [],
   "source": []
  }
 ],
 "metadata": {
  "kernelspec": {
   "display_name": "Python 3 (ipykernel)",
   "language": "python",
   "name": "python3"
  },
  "language_info": {
   "codemirror_mode": {
    "name": "ipython",
    "version": 3
   },
   "file_extension": ".py",
   "mimetype": "text/x-python",
   "name": "python",
   "nbconvert_exporter": "python",
   "pygments_lexer": "ipython3",
   "version": "3.9.7"
  }
 },
 "nbformat": 4,
 "nbformat_minor": 5
}
